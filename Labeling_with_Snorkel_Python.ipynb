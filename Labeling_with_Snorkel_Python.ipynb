{
 "cells": [
  {
   "cell_type": "code",
   "execution_count": 1,
   "metadata": {
    "id": "pGtuYEJQrdRn"
   },
   "outputs": [],
   "source": [
    "data = [\"What would you name your boat if you had one? \",\n",
    "\"What's the closest thing to real magic? \",\n",
    "\"Who is the messiest person you know? \",\n",
    "\"What will finally break the internet? \",\n",
    "\"What's the most useless talent you have? \",\n",
    "\"What would be on the gag reel of your life? \",\n",
    "\"Where is the worst smelling place you've been?\",\n",
    "\"What Secret Do You Have That No One Else Knows Except Your Sibling/S?\"\n",
    "\"What Did You Think Was Cool Then, When You Were Young But Isn’t Cool Now?\"\n",
    "\"When Was The Last Time You Did Something And Regret Doing It?\"\n",
    "\"What Guilty Pleasure Makes You Feel Alive?\"\n",
    "\"Any fool can write code that a computer can understand. Good programmers write code that humans can understand.\",\n",
    "\"First, solve the problem. Then, write the code.\",\n",
    "\"Experience is the name everyone gives to their mistakes.\",\n",
    "\" In order to be irreplaceable, one must always be different\",\n",
    "\"Java is to JavaScript what car is to Carpet.\",\n",
    "\"Knowledge is power.\",\n",
    "\"Sometimes it pays to stay in bed on Monday, rather than spending the rest of the week debugging Monday’s code.\",\n",
    "\"Perfection is achieved not when there is nothing more to add, but rather when there is nothing more to take away.\", \n",
    "\"Ruby is rubbish! PHP is phpantastic!\",\n",
    "\" Code is like humor. When you have to explain it, it’s bad.\",\n",
    "\"Fix the cause, not the symptom.\",\n",
    "\"Optimism is an occupational hazard of programming: feedback is the treatment. \" ,\n",
    "\"When to use iterative development? You should use iterative development only on projects that you want to succeed.\",\n",
    "\"Simplicity is the soul of efficiency.\",\n",
    "\"Before software can be reusable it first has to be usable.\",\n",
    "\"Make it work, make it right, make it fast.\",\n",
    "\"Programmer: A machine that turns coffee into code.\",\n",
    "\"Computers are fast; programmers keep it slow.\",\n",
    "\"When I wrote this code, only God and I understood what I did. Now only God knows.\",\n",
    "\"A son asked his father (a programmer) why the sun rises in the east, and sets in the west. His response? It works, don’t touch!\",\n",
    "\"How many programmers does it take to change a light bulb? None, that’s a hardware problem.\",\n",
    "\"Programming is like sex: One mistake and you have to support it for the rest of your life.\",\n",
    "\"Programming can be fun, and so can cryptography; however, they should not be combined.\",\n",
    "\"Programming today is a race between software engineers striving to build bigger and better idiot-proof programs, and the Universe trying to produce bigger and better idiots. So far, the Universe is winning.\",\n",
    "\"Copy-and-Paste was programmed by programmers for programmers actually.\",\n",
    "\"Always code as if the person who ends up maintaining your code will be a violent psychopath who knows where you live.\",\n",
    "\"Debugging is twice as hard as writing the code in the first place. Therefore, if you write the code as cleverly as possible, you are, by definition, not smart enough to debug it.\",\n",
    "\"Algorithm: Word used by programmers when they don’t want to explain what they did.\",\n",
    "\"Software and cathedrals are much the same — first we build them, then we pray.\",\n",
    "\"There are two ways to write error-free programs; only the third works.\",\n",
    "\"If debugging is the process of removing bugs, then programming must be the process of putting them in.\",\n",
    "\"99 little bugs in the code. 99 little bugs in the code. Take one down, patch it around. 127 little bugs in the code …\",\n",
    "\"Remember that there is no code faster than no code.\",\n",
    "\"One man’s crappy software is another man’s full-time job.\",\n",
    "\"No code has zero defects.\",\n",
    "\"A good programmer is someone who always looks both ways before crossing a one-way street.\",\n",
    "\"Deleted code is debugged code.\",\n",
    "\"Don’t worry if it doesn’t work right. If everything did, you’d be out of a job.\",\n",
    "\"It’s not a bug — it’s an undocumented feature.\",\n",
    "\"It works on my machine.\",\n",
    "\"It compiles; ship it.\",\n",
    "\"There is no Ctrl-Z in life.\",\n",
    "\"Whitespace is never white.\",\n",
    "\"What’s your favorite way to spend a day off?\",\n",
    "\"What type of music are you into?\",\n",
    "\"What was the best vacation you ever took and why?\",\n",
    "\"Where’s the next place on your travel bucket list and why?\",\n",
    "\"What are your hobbies, and how did you get into them?\",\n",
    "\"What was your favorite age growing up?\",\n",
    "\"Was the last thing you read?\",\n",
    "\"Would you say you’re more of an extrovert or an introvert?\",\n",
    "\"What's your favorite ice cream topping?\",\n",
    "\"What was the last TV show you binge-watched?\",\n",
    "\"Are you into podcasts or do you only listen to music?\",\n",
    "\"Do you have a favorite holiday? Why or why not?\",\n",
    "\"If you could only eat one food for the rest of your life, what would it be?\",\n",
    "\"Do you like going to the movies or prefer watching at home?\",\n",
    "\"What’s your favorite sleeping position?\",\n",
    "\"What’s your go-to guilty pleasure?\",\n",
    "\"In the summer, would you rather go to the beach or go camping?\",\n",
    "\"What’s your favorite quote from a TV show/movie/book?\",\n",
    "\"How old were you when you had your first celebrity crush, and who was it?\",\n",
    "\"What's one thing that can instantly make your day better?\",\n",
    "\"Do you have any pet peeves\",\n",
    "\"What’s your favorite thing about your current job?\",\n",
    "\"What annoys you most?\",\n",
    "\"What’s the career highlight you’re most proud of?\",\n",
    "\"Do you think you’ll stay in your current gig awhile? Why or why not?\",\n",
    "\"What type of role do you want to take on after this one?\",\n",
    "\"Are you more of a work to live or a live to work type of person?\",\n",
    "\"Does your job make you feel happy and fulfilled? Why or why not?\",\n",
    "\"How would your 10-year-old self react to what you do now?\",\n",
    "\"What do you remember most about your first job?\",\n",
    "\"How old were you when you started working?\",\n",
    "\"What’s the worst job you’ve ever had?\",\n",
    "\"What originally got you interested in your current field of work?\",\n",
    "\"Have you ever had a side hustle or considered having one?\",\n",
    "\"What’s your favorite part of the workday?\",\n",
    "\"What’s the best career decision you’ve ever made?\",\n",
    "\"What’s the worst career decision you’ve ever made?\",\n",
    "\"Do you consider yourself good at networking?\"]"
   ]
  },
  {
   "cell_type": "code",
   "execution_count": 2,
   "metadata": {
    "id": "PBT2lYO0rlHt"
   },
   "outputs": [],
   "source": [
    "# Load EDA Pkgs\n",
    "import pandas as pd\n",
    "import random"
   ]
  },
  {
   "cell_type": "code",
   "execution_count": 3,
   "metadata": {
    "id": "-jQO16h9tsVa"
   },
   "outputs": [],
   "source": [
    "# Shuffle dataset\n",
    "random.shuffle(data)"
   ]
  },
  {
   "cell_type": "code",
   "execution_count": 4,
   "metadata": {
    "id": "JDkL2vcft5qk"
   },
   "outputs": [],
   "source": [
    "# Convert to Dataframe\n",
    "df = pd.DataFrame({'sentences':data})"
   ]
  },
  {
   "cell_type": "code",
   "execution_count": 5,
   "metadata": {
    "id": "jklaDmkpuE71"
   },
   "outputs": [],
   "source": [
    "# Train & Test\n",
    "from sklearn.model_selection import train_test_split\n",
    "df_train,df_test = train_test_split(df,train_size=0.7)"
   ]
  },
  {
   "cell_type": "code",
   "execution_count": 6,
   "metadata": {
    "id": "bGOyqXSowKEI"
   },
   "outputs": [],
   "source": [
    "from snorkel.labeling import labeling_function,PandasLFApplier,LFAnalysis"
   ]
  },
  {
   "cell_type": "code",
   "execution_count": 7,
   "metadata": {
    "id": "C_GIf9sfxKAI"
   },
   "outputs": [],
   "source": [
    "# Constants for our labels\n",
    "QUESTION = 1\n",
    "QUOTE = 0\n",
    "ABSTAIN = -1"
   ]
  },
  {
   "cell_type": "code",
   "execution_count": 8,
   "metadata": {
    "id": "qiLE_dkXwfJy"
   },
   "outputs": [],
   "source": [
    "### Keyword Lookup\n",
    "@labeling_function()\n",
    "def lf_keyword_lookup(x):\n",
    "  keywords = [\"why\",\"what\",\"when\",\"who\",\"where\",\"how\"]\n",
    "  return QUESTION if any(word in x.sentences.lower() for word in keywords) else ABSTAIN"
   ]
  },
  {
   "cell_type": "code",
   "execution_count": 9,
   "metadata": {
    "id": "bM-BPUuFxzQ1"
   },
   "outputs": [],
   "source": [
    "### Pattern Lookup/Regex Fxn\n",
    "import re\n",
    "@labeling_function()\n",
    "def lf_regex_contains_what(x):\n",
    "  return QUESTION if re.search(r\"what.*?\",x.sentences,flags=re.I) else ABSTAIN"
   ]
  },
  {
   "cell_type": "code",
   "execution_count": 10,
   "metadata": {
    "id": "QOQJ0Q2vz6R7"
   },
   "outputs": [],
   "source": [
    "### Pattern Lookup/Regex Fxn\n",
    "import re\n",
    "@labeling_function()\n",
    "def lf_regex_contains_question_mark(x):\n",
    "  return QUESTION if re.search(r\".*?\",x.sentences,flags=re.I) else ABSTAIN"
   ]
  },
  {
   "cell_type": "code",
   "execution_count": 11,
   "metadata": {
    "colab": {
     "base_uri": "https://localhost:8080/"
    },
    "id": "v1f9jyw-yNMy",
    "outputId": "173011bb-b214-4ba3-8fc2-b6f18aa579d2"
   },
   "outputs": [
    {
     "name": "stderr",
     "output_type": "stream",
     "text": [
      "100%|████████████████████████████████████████████████████████████████████████████████| 61/61 [00:00<00:00, 7952.65it/s]\n"
     ]
    }
   ],
   "source": [
    "### Apply Fxn\n",
    "lfs = [lf_keyword_lookup,lf_regex_contains_what,lf_regex_contains_question_mark]\n",
    "applier = PandasLFApplier(lfs=lfs)\n",
    "L_train = applier.apply(df=df_train)"
   ]
  },
  {
   "cell_type": "code",
   "execution_count": 12,
   "metadata": {},
   "outputs": [
    {
     "data": {
      "text/html": [
       "<div>\n",
       "<style scoped>\n",
       "    .dataframe tbody tr th:only-of-type {\n",
       "        vertical-align: middle;\n",
       "    }\n",
       "\n",
       "    .dataframe tbody tr th {\n",
       "        vertical-align: top;\n",
       "    }\n",
       "\n",
       "    .dataframe thead th {\n",
       "        text-align: right;\n",
       "    }\n",
       "</style>\n",
       "<table border=\"1\" class=\"dataframe\">\n",
       "  <thead>\n",
       "    <tr style=\"text-align: right;\">\n",
       "      <th></th>\n",
       "      <th>sentences</th>\n",
       "    </tr>\n",
       "  </thead>\n",
       "  <tbody>\n",
       "    <tr>\n",
       "      <th>15</th>\n",
       "      <td>What will finally break the internet?</td>\n",
       "    </tr>\n",
       "    <tr>\n",
       "      <th>5</th>\n",
       "      <td>Where’s the next place on your travel bucket l...</td>\n",
       "    </tr>\n",
       "    <tr>\n",
       "      <th>87</th>\n",
       "      <td>Who is the messiest person you know?</td>\n",
       "    </tr>\n",
       "    <tr>\n",
       "      <th>51</th>\n",
       "      <td>What’s your go-to guilty pleasure?</td>\n",
       "    </tr>\n",
       "    <tr>\n",
       "      <th>82</th>\n",
       "      <td>Software and cathedrals are much the same — fi...</td>\n",
       "    </tr>\n",
       "  </tbody>\n",
       "</table>\n",
       "</div>"
      ],
      "text/plain": [
       "                                            sentences\n",
       "15             What will finally break the internet? \n",
       "5   Where’s the next place on your travel bucket l...\n",
       "87              Who is the messiest person you know? \n",
       "51                 What’s your go-to guilty pleasure?\n",
       "82  Software and cathedrals are much the same — fi..."
      ]
     },
     "execution_count": 12,
     "metadata": {},
     "output_type": "execute_result"
    }
   ],
   "source": [
    "df_train.head()"
   ]
  },
  {
   "cell_type": "code",
   "execution_count": 13,
   "metadata": {
    "colab": {
     "base_uri": "https://localhost:8080/"
    },
    "id": "UrtjfGy9ygNg",
    "outputId": "703c15ce-1b9c-435e-99b5-b3542f2c30bb"
   },
   "outputs": [
    {
     "data": {
      "text/plain": [
       "array([[ 1,  1,  1],\n",
       "       [ 1, -1,  1],\n",
       "       [ 1, -1,  1],\n",
       "       [ 1,  1,  1],\n",
       "       [-1, -1,  1],\n",
       "       [ 1, -1,  1],\n",
       "       [-1, -1,  1],\n",
       "       [-1, -1,  1],\n",
       "       [ 1,  1,  1],\n",
       "       [ 1,  1,  1],\n",
       "       [ 1,  1,  1],\n",
       "       [ 1,  1,  1],\n",
       "       [ 1, -1,  1],\n",
       "       [ 1,  1,  1],\n",
       "       [-1, -1,  1],\n",
       "       [ 1,  1,  1],\n",
       "       [-1, -1,  1],\n",
       "       [ 1, -1,  1],\n",
       "       [-1, -1,  1],\n",
       "       [-1, -1,  1],\n",
       "       [ 1,  1,  1],\n",
       "       [-1, -1,  1],\n",
       "       [ 1,  1,  1],\n",
       "       [-1, -1,  1],\n",
       "       [ 1,  1,  1],\n",
       "       [ 1,  1,  1],\n",
       "       [ 1,  1,  1],\n",
       "       [ 1,  1,  1],\n",
       "       [-1, -1,  1],\n",
       "       [-1, -1,  1],\n",
       "       [-1, -1,  1],\n",
       "       [ 1, -1,  1],\n",
       "       [-1, -1,  1],\n",
       "       [ 1,  1,  1],\n",
       "       [-1, -1,  1],\n",
       "       [ 1,  1,  1],\n",
       "       [-1, -1,  1],\n",
       "       [ 1, -1,  1],\n",
       "       [ 1,  1,  1],\n",
       "       [-1, -1,  1],\n",
       "       [ 1,  1,  1],\n",
       "       [ 1,  1,  1],\n",
       "       [ 1,  1,  1],\n",
       "       [-1, -1,  1],\n",
       "       [ 1,  1,  1],\n",
       "       [-1, -1,  1],\n",
       "       [ 1,  1,  1],\n",
       "       [ 1, -1,  1],\n",
       "       [ 1,  1,  1],\n",
       "       [ 1, -1,  1],\n",
       "       [-1, -1,  1],\n",
       "       [-1, -1,  1],\n",
       "       [ 1, -1,  1],\n",
       "       [-1, -1,  1],\n",
       "       [-1, -1,  1],\n",
       "       [-1, -1,  1],\n",
       "       [ 1, -1,  1],\n",
       "       [ 1,  1,  1],\n",
       "       [-1, -1,  1],\n",
       "       [-1, -1,  1],\n",
       "       [-1, -1,  1]])"
      ]
     },
     "execution_count": 13,
     "metadata": {},
     "output_type": "execute_result"
    }
   ],
   "source": [
    "# Label Matrix\n",
    "L_train"
   ]
  },
  {
   "cell_type": "code",
   "execution_count": 14,
   "metadata": {
    "colab": {
     "base_uri": "https://localhost:8080/",
     "height": 138
    },
    "id": "GF6DOTuRykls",
    "outputId": "e37abb26-5c83-4cd0-cd14-3a1435239801"
   },
   "outputs": [
    {
     "data": {
      "text/html": [
       "<div>\n",
       "<style scoped>\n",
       "    .dataframe tbody tr th:only-of-type {\n",
       "        vertical-align: middle;\n",
       "    }\n",
       "\n",
       "    .dataframe tbody tr th {\n",
       "        vertical-align: top;\n",
       "    }\n",
       "\n",
       "    .dataframe thead th {\n",
       "        text-align: right;\n",
       "    }\n",
       "</style>\n",
       "<table border=\"1\" class=\"dataframe\">\n",
       "  <thead>\n",
       "    <tr style=\"text-align: right;\">\n",
       "      <th></th>\n",
       "      <th>j</th>\n",
       "      <th>Polarity</th>\n",
       "      <th>Coverage</th>\n",
       "      <th>Overlaps</th>\n",
       "      <th>Conflicts</th>\n",
       "    </tr>\n",
       "  </thead>\n",
       "  <tbody>\n",
       "    <tr>\n",
       "      <th>lf_keyword_lookup</th>\n",
       "      <td>0</td>\n",
       "      <td>[1]</td>\n",
       "      <td>0.573770</td>\n",
       "      <td>0.573770</td>\n",
       "      <td>0.0</td>\n",
       "    </tr>\n",
       "    <tr>\n",
       "      <th>lf_regex_contains_what</th>\n",
       "      <td>1</td>\n",
       "      <td>[1]</td>\n",
       "      <td>0.393443</td>\n",
       "      <td>0.393443</td>\n",
       "      <td>0.0</td>\n",
       "    </tr>\n",
       "    <tr>\n",
       "      <th>lf_regex_contains_question_mark</th>\n",
       "      <td>2</td>\n",
       "      <td>[1]</td>\n",
       "      <td>1.000000</td>\n",
       "      <td>0.573770</td>\n",
       "      <td>0.0</td>\n",
       "    </tr>\n",
       "  </tbody>\n",
       "</table>\n",
       "</div>"
      ],
      "text/plain": [
       "                                 j Polarity  Coverage  Overlaps  Conflicts\n",
       "lf_keyword_lookup                0      [1]  0.573770  0.573770        0.0\n",
       "lf_regex_contains_what           1      [1]  0.393443  0.393443        0.0\n",
       "lf_regex_contains_question_mark  2      [1]  1.000000  0.573770        0.0"
      ]
     },
     "execution_count": 14,
     "metadata": {},
     "output_type": "execute_result"
    }
   ],
   "source": [
    "### Evaluate the Performance\n",
    "LFAnalysis(L=L_train,lfs=lfs).lf_summary()"
   ]
  },
  {
   "cell_type": "code",
   "execution_count": 15,
   "metadata": {
    "id": "TEobGNdny1Ix"
   },
   "outputs": [],
   "source": [
    "### MajorityLabel Voter"
   ]
  },
  {
   "cell_type": "code",
   "execution_count": 16,
   "metadata": {
    "id": "PEhJ_d9EzN40"
   },
   "outputs": [],
   "source": [
    "# LabelModel\n",
    "from snorkel.labeling.model import MajorityLabelVoter,LabelModel"
   ]
  },
  {
   "cell_type": "code",
   "execution_count": 17,
   "metadata": {
    "id": "r-apd0mXzXlg"
   },
   "outputs": [
    {
     "name": "stderr",
     "output_type": "stream",
     "text": [
      "INFO:root:Computing O...\n",
      "INFO:root:Estimating \\mu...\n",
      "  0%|                                                                                       | 0/500 [00:00<?, ?epoch/s]INFO:root:[0 epochs]: TRAIN:[loss=1.138]\n",
      "INFO:root:[100 epochs]: TRAIN:[loss=0.001]\n",
      "INFO:root:[200 epochs]: TRAIN:[loss=0.000]\n",
      "INFO:root:[300 epochs]: TRAIN:[loss=0.000]\n",
      " 72%|█████████████████████████████████████████████████████▊                     | 359/500 [00:00<00:00, 3440.57epoch/s]INFO:root:[400 epochs]: TRAIN:[loss=0.000]\n",
      "100%|███████████████████████████████████████████████████████████████████████████| 500/500 [00:00<00:00, 3392.81epoch/s]\n",
      "INFO:root:Finished Training\n"
     ]
    }
   ],
   "source": [
    "# Build the model\n",
    "label_model = LabelModel(cardinality=2,verbose=True)\n",
    "label_model.fit(L_train=L_train,n_epochs=500,log_freq=100,seed=123)"
   ]
  },
  {
   "cell_type": "code",
   "execution_count": 18,
   "metadata": {
    "colab": {
     "base_uri": "https://localhost:8080/",
     "height": 198
    },
    "id": "xv0K6RgRzrGF",
    "outputId": "7ef6eb24-74cb-468e-dc2e-27d2fedf9f09"
   },
   "outputs": [
    {
     "data": {
      "text/html": [
       "<div>\n",
       "<style scoped>\n",
       "    .dataframe tbody tr th:only-of-type {\n",
       "        vertical-align: middle;\n",
       "    }\n",
       "\n",
       "    .dataframe tbody tr th {\n",
       "        vertical-align: top;\n",
       "    }\n",
       "\n",
       "    .dataframe thead th {\n",
       "        text-align: right;\n",
       "    }\n",
       "</style>\n",
       "<table border=\"1\" class=\"dataframe\">\n",
       "  <thead>\n",
       "    <tr style=\"text-align: right;\">\n",
       "      <th></th>\n",
       "      <th>sentences</th>\n",
       "    </tr>\n",
       "  </thead>\n",
       "  <tbody>\n",
       "    <tr>\n",
       "      <th>15</th>\n",
       "      <td>What will finally break the internet?</td>\n",
       "    </tr>\n",
       "    <tr>\n",
       "      <th>5</th>\n",
       "      <td>Where’s the next place on your travel bucket l...</td>\n",
       "    </tr>\n",
       "    <tr>\n",
       "      <th>87</th>\n",
       "      <td>Who is the messiest person you know?</td>\n",
       "    </tr>\n",
       "    <tr>\n",
       "      <th>51</th>\n",
       "      <td>What’s your go-to guilty pleasure?</td>\n",
       "    </tr>\n",
       "    <tr>\n",
       "      <th>82</th>\n",
       "      <td>Software and cathedrals are much the same — fi...</td>\n",
       "    </tr>\n",
       "  </tbody>\n",
       "</table>\n",
       "</div>"
      ],
      "text/plain": [
       "                                            sentences\n",
       "15             What will finally break the internet? \n",
       "5   Where’s the next place on your travel bucket l...\n",
       "87              Who is the messiest person you know? \n",
       "51                 What’s your go-to guilty pleasure?\n",
       "82  Software and cathedrals are much the same — fi..."
      ]
     },
     "execution_count": 18,
     "metadata": {},
     "output_type": "execute_result"
    }
   ],
   "source": [
    "### Unlabeled Dataset\n",
    "df_train.head()"
   ]
  },
  {
   "cell_type": "code",
   "execution_count": 19,
   "metadata": {
    "colab": {
     "base_uri": "https://localhost:8080/"
    },
    "id": "V_bVXbRu0YD5",
    "outputId": "a4a4dc30-c3ca-4708-a287-b5010c564084"
   },
   "outputs": [],
   "source": [
    "# apply our label model on our unlabeled dataset\n",
    "df_train['Labels'] = label_model.predict(L=L_train,tie_break_policy=\"abstain\")"
   ]
  },
  {
   "cell_type": "code",
   "execution_count": 20,
   "metadata": {
    "colab": {
     "base_uri": "https://localhost:8080/",
     "height": 1000
    },
    "id": "h4l949Ql0nf7",
    "outputId": "f826bf73-4162-4439-fadd-6881c8aa31c0"
   },
   "outputs": [
    {
     "data": {
      "text/html": [
       "<div>\n",
       "<style scoped>\n",
       "    .dataframe tbody tr th:only-of-type {\n",
       "        vertical-align: middle;\n",
       "    }\n",
       "\n",
       "    .dataframe tbody tr th {\n",
       "        vertical-align: top;\n",
       "    }\n",
       "\n",
       "    .dataframe thead th {\n",
       "        text-align: right;\n",
       "    }\n",
       "</style>\n",
       "<table border=\"1\" class=\"dataframe\">\n",
       "  <thead>\n",
       "    <tr style=\"text-align: right;\">\n",
       "      <th></th>\n",
       "      <th>sentences</th>\n",
       "      <th>Labels</th>\n",
       "    </tr>\n",
       "  </thead>\n",
       "  <tbody>\n",
       "    <tr>\n",
       "      <th>15</th>\n",
       "      <td>What will finally break the internet?</td>\n",
       "      <td>1</td>\n",
       "    </tr>\n",
       "    <tr>\n",
       "      <th>5</th>\n",
       "      <td>Where’s the next place on your travel bucket l...</td>\n",
       "      <td>1</td>\n",
       "    </tr>\n",
       "    <tr>\n",
       "      <th>87</th>\n",
       "      <td>Who is the messiest person you know?</td>\n",
       "      <td>1</td>\n",
       "    </tr>\n",
       "    <tr>\n",
       "      <th>51</th>\n",
       "      <td>What’s your go-to guilty pleasure?</td>\n",
       "      <td>1</td>\n",
       "    </tr>\n",
       "    <tr>\n",
       "      <th>82</th>\n",
       "      <td>Software and cathedrals are much the same — fi...</td>\n",
       "      <td>-1</td>\n",
       "    </tr>\n",
       "    <tr>\n",
       "      <th>...</th>\n",
       "      <td>...</td>\n",
       "      <td>...</td>\n",
       "    </tr>\n",
       "    <tr>\n",
       "      <th>85</th>\n",
       "      <td>Does your job make you feel happy and fulfille...</td>\n",
       "      <td>1</td>\n",
       "    </tr>\n",
       "    <tr>\n",
       "      <th>30</th>\n",
       "      <td>What's your favorite ice cream topping?</td>\n",
       "      <td>1</td>\n",
       "    </tr>\n",
       "    <tr>\n",
       "      <th>48</th>\n",
       "      <td>Would you say you’re more of an extrovert or a...</td>\n",
       "      <td>-1</td>\n",
       "    </tr>\n",
       "    <tr>\n",
       "      <th>68</th>\n",
       "      <td>Simplicity is the soul of efficiency.</td>\n",
       "      <td>-1</td>\n",
       "    </tr>\n",
       "    <tr>\n",
       "      <th>62</th>\n",
       "      <td>Ruby is rubbish! PHP is phpantastic!</td>\n",
       "      <td>-1</td>\n",
       "    </tr>\n",
       "  </tbody>\n",
       "</table>\n",
       "<p>61 rows × 2 columns</p>\n",
       "</div>"
      ],
      "text/plain": [
       "                                            sentences  Labels\n",
       "15             What will finally break the internet?        1\n",
       "5   Where’s the next place on your travel bucket l...       1\n",
       "87              Who is the messiest person you know?        1\n",
       "51                 What’s your go-to guilty pleasure?       1\n",
       "82  Software and cathedrals are much the same — fi...      -1\n",
       "..                                                ...     ...\n",
       "85  Does your job make you feel happy and fulfille...       1\n",
       "30            What's your favorite ice cream topping?       1\n",
       "48  Would you say you’re more of an extrovert or a...      -1\n",
       "68              Simplicity is the soul of efficiency.      -1\n",
       "62               Ruby is rubbish! PHP is phpantastic!      -1\n",
       "\n",
       "[61 rows x 2 columns]"
      ]
     },
     "execution_count": 20,
     "metadata": {},
     "output_type": "execute_result"
    }
   ],
   "source": [
    "df_train"
   ]
  },
  {
   "cell_type": "code",
   "execution_count": 21,
   "metadata": {
    "colab": {
     "base_uri": "https://localhost:8080/",
     "height": 888
    },
    "id": "gb9qrHf90pzl",
    "outputId": "fd3af89d-e4ec-4f51-8f63-9cc522323d5d"
   },
   "outputs": [
    {
     "data": {
      "text/html": [
       "<div>\n",
       "<style scoped>\n",
       "    .dataframe tbody tr th:only-of-type {\n",
       "        vertical-align: middle;\n",
       "    }\n",
       "\n",
       "    .dataframe tbody tr th {\n",
       "        vertical-align: top;\n",
       "    }\n",
       "\n",
       "    .dataframe thead th {\n",
       "        text-align: right;\n",
       "    }\n",
       "</style>\n",
       "<table border=\"1\" class=\"dataframe\">\n",
       "  <thead>\n",
       "    <tr style=\"text-align: right;\">\n",
       "      <th></th>\n",
       "      <th>sentences</th>\n",
       "      <th>Labels</th>\n",
       "    </tr>\n",
       "  </thead>\n",
       "  <tbody>\n",
       "    <tr>\n",
       "      <th>15</th>\n",
       "      <td>What will finally break the internet?</td>\n",
       "      <td>1</td>\n",
       "    </tr>\n",
       "    <tr>\n",
       "      <th>5</th>\n",
       "      <td>Where’s the next place on your travel bucket l...</td>\n",
       "      <td>1</td>\n",
       "    </tr>\n",
       "    <tr>\n",
       "      <th>87</th>\n",
       "      <td>Who is the messiest person you know?</td>\n",
       "      <td>1</td>\n",
       "    </tr>\n",
       "    <tr>\n",
       "      <th>51</th>\n",
       "      <td>What’s your go-to guilty pleasure?</td>\n",
       "      <td>1</td>\n",
       "    </tr>\n",
       "    <tr>\n",
       "      <th>57</th>\n",
       "      <td>Where is the worst smelling place you've been?</td>\n",
       "      <td>1</td>\n",
       "    </tr>\n",
       "    <tr>\n",
       "      <th>52</th>\n",
       "      <td>What would be on the gag reel of your life?</td>\n",
       "      <td>1</td>\n",
       "    </tr>\n",
       "    <tr>\n",
       "      <th>29</th>\n",
       "      <td>What type of music are you into?</td>\n",
       "      <td>1</td>\n",
       "    </tr>\n",
       "    <tr>\n",
       "      <th>31</th>\n",
       "      <td>What’s your favorite sleeping position?</td>\n",
       "      <td>1</td>\n",
       "    </tr>\n",
       "    <tr>\n",
       "      <th>7</th>\n",
       "      <td>What's one thing that can instantly make your ...</td>\n",
       "      <td>1</td>\n",
       "    </tr>\n",
       "    <tr>\n",
       "      <th>79</th>\n",
       "      <td>Always code as if the person who ends up maint...</td>\n",
       "      <td>1</td>\n",
       "    </tr>\n",
       "    <tr>\n",
       "      <th>10</th>\n",
       "      <td>What’s the worst career decision you’ve ever m...</td>\n",
       "      <td>1</td>\n",
       "    </tr>\n",
       "    <tr>\n",
       "      <th>24</th>\n",
       "      <td>What annoys you most?</td>\n",
       "      <td>1</td>\n",
       "    </tr>\n",
       "    <tr>\n",
       "      <th>70</th>\n",
       "      <td>Perfection is achieved not when there is nothi...</td>\n",
       "      <td>1</td>\n",
       "    </tr>\n",
       "    <tr>\n",
       "      <th>8</th>\n",
       "      <td>When I wrote this code, only God and I underst...</td>\n",
       "      <td>1</td>\n",
       "    </tr>\n",
       "    <tr>\n",
       "      <th>14</th>\n",
       "      <td>Algorithm: Word used by programmers when they ...</td>\n",
       "      <td>1</td>\n",
       "    </tr>\n",
       "    <tr>\n",
       "      <th>32</th>\n",
       "      <td>What are your hobbies, and how did you get int...</td>\n",
       "      <td>1</td>\n",
       "    </tr>\n",
       "    <tr>\n",
       "      <th>71</th>\n",
       "      <td>What’s your favorite part of the workday?</td>\n",
       "      <td>1</td>\n",
       "    </tr>\n",
       "    <tr>\n",
       "      <th>78</th>\n",
       "      <td>What was the last TV show you binge-watched?</td>\n",
       "      <td>1</td>\n",
       "    </tr>\n",
       "    <tr>\n",
       "      <th>55</th>\n",
       "      <td>What originally got you interested in your cur...</td>\n",
       "      <td>1</td>\n",
       "    </tr>\n",
       "    <tr>\n",
       "      <th>36</th>\n",
       "      <td>Do you have a favorite holiday? Why or why not?</td>\n",
       "      <td>1</td>\n",
       "    </tr>\n",
       "    <tr>\n",
       "      <th>25</th>\n",
       "      <td>What's the closest thing to real magic?</td>\n",
       "      <td>1</td>\n",
       "    </tr>\n",
       "    <tr>\n",
       "      <th>86</th>\n",
       "      <td>What would you name your boat if you had one?</td>\n",
       "      <td>1</td>\n",
       "    </tr>\n",
       "    <tr>\n",
       "      <th>39</th>\n",
       "      <td>Do you think you’ll stay in your current gig a...</td>\n",
       "      <td>1</td>\n",
       "    </tr>\n",
       "    <tr>\n",
       "      <th>84</th>\n",
       "      <td>What's the most useless talent you have?</td>\n",
       "      <td>1</td>\n",
       "    </tr>\n",
       "    <tr>\n",
       "      <th>80</th>\n",
       "      <td>What’s your favorite way to spend a day off?</td>\n",
       "      <td>1</td>\n",
       "    </tr>\n",
       "    <tr>\n",
       "      <th>47</th>\n",
       "      <td>What type of role do you want to take on after...</td>\n",
       "      <td>1</td>\n",
       "    </tr>\n",
       "    <tr>\n",
       "      <th>42</th>\n",
       "      <td>What’s your favorite quote from a TV show/movi...</td>\n",
       "      <td>1</td>\n",
       "    </tr>\n",
       "    <tr>\n",
       "      <th>19</th>\n",
       "      <td>How would your 10-year-old self react to what ...</td>\n",
       "      <td>1</td>\n",
       "    </tr>\n",
       "    <tr>\n",
       "      <th>27</th>\n",
       "      <td>What’s the best career decision you’ve ever made?</td>\n",
       "      <td>1</td>\n",
       "    </tr>\n",
       "    <tr>\n",
       "      <th>46</th>\n",
       "      <td>When to use iterative development? You should ...</td>\n",
       "      <td>1</td>\n",
       "    </tr>\n",
       "    <tr>\n",
       "      <th>22</th>\n",
       "      <td>What’s the worst job you’ve ever had?</td>\n",
       "      <td>1</td>\n",
       "    </tr>\n",
       "    <tr>\n",
       "      <th>54</th>\n",
       "      <td>How old were you when you had your first celeb...</td>\n",
       "      <td>1</td>\n",
       "    </tr>\n",
       "    <tr>\n",
       "      <th>74</th>\n",
       "      <td>How many programmers does it take to change a ...</td>\n",
       "      <td>1</td>\n",
       "    </tr>\n",
       "    <tr>\n",
       "      <th>85</th>\n",
       "      <td>Does your job make you feel happy and fulfille...</td>\n",
       "      <td>1</td>\n",
       "    </tr>\n",
       "    <tr>\n",
       "      <th>30</th>\n",
       "      <td>What's your favorite ice cream topping?</td>\n",
       "      <td>1</td>\n",
       "    </tr>\n",
       "  </tbody>\n",
       "</table>\n",
       "</div>"
      ],
      "text/plain": [
       "                                            sentences  Labels\n",
       "15             What will finally break the internet?        1\n",
       "5   Where’s the next place on your travel bucket l...       1\n",
       "87              Who is the messiest person you know?        1\n",
       "51                 What’s your go-to guilty pleasure?       1\n",
       "57     Where is the worst smelling place you've been?       1\n",
       "52       What would be on the gag reel of your life?        1\n",
       "29                   What type of music are you into?       1\n",
       "31            What’s your favorite sleeping position?       1\n",
       "7   What's one thing that can instantly make your ...       1\n",
       "79  Always code as if the person who ends up maint...       1\n",
       "10  What’s the worst career decision you’ve ever m...       1\n",
       "24                              What annoys you most?       1\n",
       "70  Perfection is achieved not when there is nothi...       1\n",
       "8   When I wrote this code, only God and I underst...       1\n",
       "14  Algorithm: Word used by programmers when they ...       1\n",
       "32  What are your hobbies, and how did you get int...       1\n",
       "71          What’s your favorite part of the workday?       1\n",
       "78       What was the last TV show you binge-watched?       1\n",
       "55  What originally got you interested in your cur...       1\n",
       "36    Do you have a favorite holiday? Why or why not?       1\n",
       "25           What's the closest thing to real magic?        1\n",
       "86     What would you name your boat if you had one?        1\n",
       "39  Do you think you’ll stay in your current gig a...       1\n",
       "84          What's the most useless talent you have?        1\n",
       "80       What’s your favorite way to spend a day off?       1\n",
       "47  What type of role do you want to take on after...       1\n",
       "42  What’s your favorite quote from a TV show/movi...       1\n",
       "19  How would your 10-year-old self react to what ...       1\n",
       "27  What’s the best career decision you’ve ever made?       1\n",
       "46  When to use iterative development? You should ...       1\n",
       "22              What’s the worst job you’ve ever had?       1\n",
       "54  How old were you when you had your first celeb...       1\n",
       "74  How many programmers does it take to change a ...       1\n",
       "85  Does your job make you feel happy and fulfille...       1\n",
       "30            What's your favorite ice cream topping?       1"
      ]
     },
     "execution_count": 21,
     "metadata": {},
     "output_type": "execute_result"
    }
   ],
   "source": [
    "# Find where in the dataset it was labeled as Questions and assign it the new label\n",
    "df_train[df_train.Labels != ABSTAIN]"
   ]
  },
  {
   "cell_type": "code",
   "execution_count": 22,
   "metadata": {
    "id": "Xukt1OTW2HCx"
   },
   "outputs": [],
   "source": [
    "df_train2 = df_train[df_train.Labels != ABSTAIN]"
   ]
  },
  {
   "cell_type": "code",
   "execution_count": 23,
   "metadata": {
    "id": "N9bJiFZg2IsC"
   },
   "outputs": [],
   "source": [
    "import seaborn as sns"
   ]
  },
  {
   "cell_type": "code",
   "execution_count": 24,
   "metadata": {
    "colab": {
     "base_uri": "https://localhost:8080/",
     "height": 297
    },
    "id": "10Igvwa92Klg",
    "outputId": "80be96c7-2572-45fa-ae8f-f3d78ffa2a82"
   },
   "outputs": [
    {
     "data": {
      "text/plain": [
       "<AxesSubplot:xlabel='Labels', ylabel='count'>"
      ]
     },
     "execution_count": 24,
     "metadata": {},
     "output_type": "execute_result"
    },
    {
     "data": {
      "image/png": "[encoded data removed]",
      "text/plain": [
       "<Figure size 432x288 with 1 Axes>"
      ]
     },
     "metadata": {
      "needs_background": "light"
     },
     "output_type": "display_data"
    }
   ],
   "source": [
    "sns.countplot(x='Labels',data=df_train)"
   ]
  },
  {
   "cell_type": "code",
   "execution_count": 25,
   "metadata": {
    "colab": {
     "base_uri": "https://localhost:8080/",
     "height": 1000
    },
    "id": "9ZBnIEW62Pzy",
    "outputId": "136fc76e-3300-4cda-f666-fc52bad74fae"
   },
   "outputs": [
    {
     "data": {
      "text/html": [
       "<div>\n",
       "<style scoped>\n",
       "    .dataframe tbody tr th:only-of-type {\n",
       "        vertical-align: middle;\n",
       "    }\n",
       "\n",
       "    .dataframe tbody tr th {\n",
       "        vertical-align: top;\n",
       "    }\n",
       "\n",
       "    .dataframe thead th {\n",
       "        text-align: right;\n",
       "    }\n",
       "</style>\n",
       "<table border=\"1\" class=\"dataframe\">\n",
       "  <thead>\n",
       "    <tr style=\"text-align: right;\">\n",
       "      <th></th>\n",
       "      <th>sentences</th>\n",
       "      <th>Labels</th>\n",
       "    </tr>\n",
       "  </thead>\n",
       "  <tbody>\n",
       "    <tr>\n",
       "      <th>15</th>\n",
       "      <td>What will finally break the internet?</td>\n",
       "      <td>1</td>\n",
       "    </tr>\n",
       "    <tr>\n",
       "      <th>5</th>\n",
       "      <td>Where’s the next place on your travel bucket l...</td>\n",
       "      <td>1</td>\n",
       "    </tr>\n",
       "    <tr>\n",
       "      <th>87</th>\n",
       "      <td>Who is the messiest person you know?</td>\n",
       "      <td>1</td>\n",
       "    </tr>\n",
       "    <tr>\n",
       "      <th>51</th>\n",
       "      <td>What’s your go-to guilty pleasure?</td>\n",
       "      <td>1</td>\n",
       "    </tr>\n",
       "    <tr>\n",
       "      <th>82</th>\n",
       "      <td>Software and cathedrals are much the same — fi...</td>\n",
       "      <td>-1</td>\n",
       "    </tr>\n",
       "    <tr>\n",
       "      <th>...</th>\n",
       "      <td>...</td>\n",
       "      <td>...</td>\n",
       "    </tr>\n",
       "    <tr>\n",
       "      <th>85</th>\n",
       "      <td>Does your job make you feel happy and fulfille...</td>\n",
       "      <td>1</td>\n",
       "    </tr>\n",
       "    <tr>\n",
       "      <th>30</th>\n",
       "      <td>What's your favorite ice cream topping?</td>\n",
       "      <td>1</td>\n",
       "    </tr>\n",
       "    <tr>\n",
       "      <th>48</th>\n",
       "      <td>Would you say you’re more of an extrovert or a...</td>\n",
       "      <td>-1</td>\n",
       "    </tr>\n",
       "    <tr>\n",
       "      <th>68</th>\n",
       "      <td>Simplicity is the soul of efficiency.</td>\n",
       "      <td>-1</td>\n",
       "    </tr>\n",
       "    <tr>\n",
       "      <th>62</th>\n",
       "      <td>Ruby is rubbish! PHP is phpantastic!</td>\n",
       "      <td>-1</td>\n",
       "    </tr>\n",
       "  </tbody>\n",
       "</table>\n",
       "<p>61 rows × 2 columns</p>\n",
       "</div>"
      ],
      "text/plain": [
       "                                            sentences  Labels\n",
       "15             What will finally break the internet?        1\n",
       "5   Where’s the next place on your travel bucket l...       1\n",
       "87              Who is the messiest person you know?        1\n",
       "51                 What’s your go-to guilty pleasure?       1\n",
       "82  Software and cathedrals are much the same — fi...      -1\n",
       "..                                                ...     ...\n",
       "85  Does your job make you feel happy and fulfille...       1\n",
       "30            What's your favorite ice cream topping?       1\n",
       "48  Would you say you’re more of an extrovert or a...      -1\n",
       "68              Simplicity is the soul of efficiency.      -1\n",
       "62               Ruby is rubbish! PHP is phpantastic!      -1\n",
       "\n",
       "[61 rows x 2 columns]"
      ]
     },
     "execution_count": 25,
     "metadata": {},
     "output_type": "execute_result"
    }
   ],
   "source": [
    "df_train"
   ]
  }
 ],
 "metadata": {
  "colab": {
   "name": "Dataset Labeling with Snorkel Python.ipynb",
   "provenance": []
  },
  "kernelspec": {
   "display_name": "Python 3 (ipykernel)",
   "language": "python",
   "name": "python3"
  },
  "language_info": {
   "codemirror_mode": {
    "name": "ipython",
    "version": 3
   },
   "file_extension": ".py",
   "mimetype": "text/x-python",
   "name": "python",
   "nbconvert_exporter": "python",
   "pygments_lexer": "ipython3",
   "version": "3.9.12"
  }
 },
 "nbformat": 4,
 "nbformat_minor": 1
}
