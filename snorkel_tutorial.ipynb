{
 "cells": [
  {
   "cell_type": "code",
   "execution_count": 1,
   "id": "c58435c7",
   "metadata": {},
   "outputs": [],
   "source": [
    "import re\n",
    "import pandas as pd\n",
    "import random\n",
    "\n",
    "from sklearn.model_selection import train_test_split\n",
    "from snorkel.labeling import labeling_function, PandasLFApplier, LFAnalysis"
   ]
  },
  {
   "cell_type": "code",
   "execution_count": 2,
   "id": "814ae18d",
   "metadata": {},
   "outputs": [],
   "source": [
    "data = [\"What would you name your boat if you had one? \",\n",
    "\"What's the closest thing to real magic? \",\n",
    "\"Who is the messiest person you know? \",\n",
    "\"What will finally break the internet? \",\n",
    "\"What's the most useless talent you have? \",\n",
    "\"What would be on the gag reel of your life? \",\n",
    "\"Where is the worst smelling place you've been?\",\n",
    "\"What Secret Do You Have That No One Else Knows Except Your Sibling/S?\"\n",
    "\"What Did You Think Was Cool Then, When You Were Young But Isn’t Cool Now?\"\n",
    "\"When Was The Last Time You Did Something And Regret Doing It?\"\n",
    "\"What Guilty Pleasure Makes You Feel Alive?\"\n",
    "\"Any fool can write code that a computer can understand. Good programmers write code that humans can understand.\",\n",
    "\"First, solve the problem. Then, write the code.\",\n",
    "\"Experience is the name everyone gives to their mistakes.\",\n",
    "\" In order to be irreplaceable, one must always be different\",\n",
    "\"Java is to JavaScript what car is to Carpet.\",\n",
    "\"Knowledge is power.\",\n",
    "\"Sometimes it pays to stay in bed on Monday, rather than spending the rest of the week debugging Monday’s code.\",\n",
    "\"Perfection is achieved not when there is nothing more to add, but rather when there is nothing more to take away.\", \n",
    "\"Ruby is rubbish! PHP is phpantastic!\",\n",
    "\" Code is like humor. When you have to explain it, it’s bad.\",\n",
    "\"Fix the cause, not the symptom.\",\n",
    "\"Optimism is an occupational hazard of programming: feedback is the treatment. \" ,\n",
    "\"When to use iterative development? You should use iterative development only on projects that you want to succeed.\",\n",
    "\"Simplicity is the soul of efficiency.\",\n",
    "\"Before software can be reusable it first has to be usable.\",\n",
    "\"Make it work, make it right, make it fast.\",\n",
    "\"Programmer: A machine that turns coffee into code.\",\n",
    "\"Computers are fast; programmers keep it slow.\",\n",
    "\"When I wrote this code, only God and I understood what I did. Now only God knows.\",\n",
    "\"A son asked his father (a programmer) why the sun rises in the east, and sets in the west. His response? It works, don’t touch!\",\n",
    "\"How many programmers does it take to change a light bulb? None, that’s a hardware problem.\",\n",
    "\"Programming is like sex: One mistake and you have to support it for the rest of your life.\",\n",
    "\"Programming can be fun, and so can cryptography; however, they should not be combined.\",\n",
    "\"Programming today is a race between software engineers striving to build bigger and better idiot-proof programs, and the Universe trying to produce bigger and better idiots. So far, the Universe is winning.\",\n",
    "\"Copy-and-Paste was programmed by programmers for programmers actually.\",\n",
    "\"Always code as if the person who ends up maintaining your code will be a violent psychopath who knows where you live.\",\n",
    "\"Debugging is twice as hard as writing the code in the first place. Therefore, if you write the code as cleverly as possible, you are, by definition, not smart enough to debug it.\",\n",
    "\"Algorithm: Word used by programmers when they don’t want to explain what they did.\",\n",
    "\"Software and cathedrals are much the same — first we build them, then we pray.\",\n",
    "\"There are two ways to write error-free programs; only the third works.\",\n",
    "\"If debugging is the process of removing bugs, then programming must be the process of putting them in.\",\n",
    "\"99 little bugs in the code. 99 little bugs in the code. Take one down, patch it around. 127 little bugs in the code …\",\n",
    "\"Remember that there is no code faster than no code.\",\n",
    "\"One man’s crappy software is another man’s full-time job.\",\n",
    "\"No code has zero defects.\",\n",
    "\"A good programmer is someone who always looks both ways before crossing a one-way street.\",\n",
    "\"Deleted code is debugged code.\",\n",
    "\"Don’t worry if it doesn’t work right. If everything did, you’d be out of a job.\",\n",
    "\"It’s not a bug — it’s an undocumented feature.\",\n",
    "\"It works on my machine.\",\n",
    "\"It compiles; ship it.\",\n",
    "\"There is no Ctrl-Z in life.\",\n",
    "\"Whitespace is never white.\",\n",
    "\"What’s your favorite way to spend a day off?\",\n",
    "\"What type of music are you into?\",\n",
    "\"What was the best vacation you ever took and why?\",\n",
    "\"Where’s the next place on your travel bucket list and why?\",\n",
    "\"What are your hobbies, and how did you get into them?\",\n",
    "\"What was your favorite age growing up?\",\n",
    "\"Was the last thing you read?\",\n",
    "\"Would you say you’re more of an extrovert or an introvert?\",\n",
    "\"What's your favorite ice cream topping?\",\n",
    "\"What was the last TV show you binge-watched?\",\n",
    "\"Are you into podcasts or do you only listen to music?\",\n",
    "\"Do you have a favorite holiday? Why or why not?\",\n",
    "\"If you could only eat one food for the rest of your life, what would it be?\",\n",
    "\"Do you like going to the movies or prefer watching at home?\",\n",
    "\"What’s your favorite sleeping position?\",\n",
    "\"What’s your go-to guilty pleasure?\",\n",
    "\"In the summer, would you rather go to the beach or go camping?\",\n",
    "\"What’s your favorite quote from a TV show/movie/book?\",\n",
    "\"How old were you when you had your first celebrity crush, and who was it?\",\n",
    "\"What's one thing that can instantly make your day better?\",\n",
    "\"Do you have any pet peeves\",\n",
    "\"What’s your favorite thing about your current job?\",\n",
    "\"What annoys you most?\",\n",
    "\"What’s the career highlight you’re most proud of?\",\n",
    "\"Do you think you’ll stay in your current gig awhile? Why or why not?\",\n",
    "\"What type of role do you want to take on after this one?\",\n",
    "\"Are you more of a work to live or a live to work type of person?\",\n",
    "\"Does your job make you feel happy and fulfilled? Why or why not?\",\n",
    "\"How would your 10-year-old self react to what you do now?\",\n",
    "\"What do you remember most about your first job?\",\n",
    "\"How old were you when you started working?\",\n",
    "\"What’s the worst job you’ve ever had?\",\n",
    "\"What originally got you interested in your current field of work?\",\n",
    "\"Have you ever had a side hustle or considered having one?\",\n",
    "\"What’s your favorite part of the workday?\",\n",
    "\"What’s the best career decision you’ve ever made?\",\n",
    "\"What’s the worst career decision you’ve ever made?\",\n",
    "\"Do you consider yourself good at networking?\"]"
   ]
  },
  {
   "cell_type": "code",
   "execution_count": 3,
   "id": "8a575f23",
   "metadata": {},
   "outputs": [],
   "source": [
    "random.shuffle(data)"
   ]
  },
  {
   "cell_type": "code",
   "execution_count": 4,
   "id": "9244fdfa",
   "metadata": {},
   "outputs": [],
   "source": [
    "df = pd.DataFrame('sentence': data)"
   ]
  },
  {
   "cell_type": "code",
   "execution_count": 31,
   "id": "e3500896",
   "metadata": {},
   "outputs": [],
   "source": [
    "df_train, df_test = train_test_split(df, train_size=0.7)"
   ]
  },
  {
   "cell_type": "code",
   "execution_count": 32,
   "id": "cdc59380",
   "metadata": {},
   "outputs": [],
   "source": [
    "# Constants\n",
    "QUESTION = 1\n",
    "QUOTE = 0\n",
    "ABSTAIN = -1"
   ]
  },
  {
   "cell_type": "code",
   "execution_count": 42,
   "id": "e0e6b1af",
   "metadata": {},
   "outputs": [],
   "source": [
    "### Keyword Lookup\n",
    "@labeling_function()\n",
    "def lf_keyword_lookup(df_line):\n",
    "  keywords = [\"why\",\"what\",\"when\",\"who\",\"where\",\"how\"]\n",
    "  return QUESTION if any(word in df_line['sentence'].lower() for word in keywords) else ABSTAIN"
   ]
  },
  {
   "cell_type": "code",
   "execution_count": 34,
   "id": "8eb97681",
   "metadata": {},
   "outputs": [],
   "source": [
    "### Pattern Lookup/Regex Fxn\n",
    "@labeling_function()\n",
    "def lf_regex_contains_what(df_line):\n",
    "  return QUESTION if re.search(r\"what.*?\", df_line.sentences, flags=re.I) else ABSTAIN"
   ]
  },
  {
   "cell_type": "code",
   "execution_count": 35,
   "id": "407de1bd",
   "metadata": {},
   "outputs": [],
   "source": [
    "### Pattern Lookup/Regex Fxn\n",
    "@labeling_function()\n",
    "def lf_regex_contains_question_mark(df_line):\n",
    "  return QUESTION if re.search(r\".*?\", df_line.sentences, flags=re.I) else ABSTAIN"
   ]
  },
  {
   "cell_type": "code",
   "execution_count": 44,
   "id": "9402e77d",
   "metadata": {},
   "outputs": [
    {
     "name": "stdout",
     "output_type": "stream",
     "text": [
      "object\n"
     ]
    }
   ],
   "source": [
    "print(df_train['sentence'].dtypes)"
   ]
  },
  {
   "cell_type": "code",
   "execution_count": 36,
   "id": "60cf226f",
   "metadata": {},
   "outputs": [
    {
     "name": "stderr",
     "output_type": "stream",
     "text": [
      "  2%|█▍                                                                                         | 1/61 [00:00<?, ?it/s]\n"
     ]
    },
    {
     "ename": "AttributeError",
     "evalue": "'Series' object has no attribute 'sentences'",
     "output_type": "error",
     "traceback": [
      "\u001b[1;31m---------------------------------------------------------------------------\u001b[0m",
      "\u001b[1;31mAttributeError\u001b[0m                            Traceback (most recent call last)",
      "Input \u001b[1;32mIn [36]\u001b[0m, in \u001b[0;36m<cell line: 3>\u001b[1;34m()\u001b[0m\n\u001b[0;32m      1\u001b[0m lfs \u001b[38;5;241m=\u001b[39m [lf_keyword_lookup, lf_regex_contains_what, lf_regex_contains_question_mark]\n\u001b[0;32m      2\u001b[0m applier \u001b[38;5;241m=\u001b[39m PandasLFApplier(lfs\u001b[38;5;241m=\u001b[39mlfs)\n\u001b[1;32m----> 3\u001b[0m L_train \u001b[38;5;241m=\u001b[39m \u001b[43mapplier\u001b[49m\u001b[38;5;241;43m.\u001b[39;49m\u001b[43mapply\u001b[49m\u001b[43m(\u001b[49m\u001b[43mdf\u001b[49m\u001b[38;5;241;43m=\u001b[39;49m\u001b[43mdf_train\u001b[49m\u001b[43m)\u001b[49m\n",
      "File \u001b[1;32m~\\anaconda3\\lib\\site-packages\\snorkel\\labeling\\apply\\pandas.py:108\u001b[0m, in \u001b[0;36mPandasLFApplier.apply\u001b[1;34m(self, df, progress_bar, fault_tolerant, return_meta)\u001b[0m\n\u001b[0;32m    106\u001b[0m     tqdm\u001b[38;5;241m.\u001b[39mpandas()\n\u001b[0;32m    107\u001b[0m     call_fn \u001b[38;5;241m=\u001b[39m df\u001b[38;5;241m.\u001b[39mprogress_apply\n\u001b[1;32m--> 108\u001b[0m labels \u001b[38;5;241m=\u001b[39m \u001b[43mcall_fn\u001b[49m\u001b[43m(\u001b[49m\u001b[43mapply_fn\u001b[49m\u001b[43m,\u001b[49m\u001b[43m \u001b[49m\u001b[43maxis\u001b[49m\u001b[38;5;241;43m=\u001b[39;49m\u001b[38;5;241;43m1\u001b[39;49m\u001b[43m)\u001b[49m\n\u001b[0;32m    109\u001b[0m labels_with_index \u001b[38;5;241m=\u001b[39m rows_to_triplets(labels)\n\u001b[0;32m    110\u001b[0m L \u001b[38;5;241m=\u001b[39m \u001b[38;5;28mself\u001b[39m\u001b[38;5;241m.\u001b[39m_numpy_from_row_data(labels_with_index)\n",
      "File \u001b[1;32m~\\anaconda3\\lib\\site-packages\\tqdm\\std.py:814\u001b[0m, in \u001b[0;36mtqdm.pandas.<locals>.inner_generator.<locals>.inner\u001b[1;34m(df, func, *args, **kwargs)\u001b[0m\n\u001b[0;32m    811\u001b[0m \u001b[38;5;66;03m# Apply the provided function (in **kwargs)\u001b[39;00m\n\u001b[0;32m    812\u001b[0m \u001b[38;5;66;03m# on the df using our wrapper (which provides bar updating)\u001b[39;00m\n\u001b[0;32m    813\u001b[0m \u001b[38;5;28;01mtry\u001b[39;00m:\n\u001b[1;32m--> 814\u001b[0m     \u001b[38;5;28;01mreturn\u001b[39;00m \u001b[38;5;28mgetattr\u001b[39m(df, df_function)(wrapper, \u001b[38;5;241m*\u001b[39m\u001b[38;5;241m*\u001b[39mkwargs)\n\u001b[0;32m    815\u001b[0m \u001b[38;5;28;01mfinally\u001b[39;00m:\n\u001b[0;32m    816\u001b[0m     t\u001b[38;5;241m.\u001b[39mclose()\n",
      "File \u001b[1;32m~\\anaconda3\\lib\\site-packages\\pandas\\core\\frame.py:8839\u001b[0m, in \u001b[0;36mDataFrame.apply\u001b[1;34m(self, func, axis, raw, result_type, args, **kwargs)\u001b[0m\n\u001b[0;32m   8828\u001b[0m \u001b[38;5;28;01mfrom\u001b[39;00m \u001b[38;5;21;01mpandas\u001b[39;00m\u001b[38;5;21;01m.\u001b[39;00m\u001b[38;5;21;01mcore\u001b[39;00m\u001b[38;5;21;01m.\u001b[39;00m\u001b[38;5;21;01mapply\u001b[39;00m \u001b[38;5;28;01mimport\u001b[39;00m frame_apply\n\u001b[0;32m   8830\u001b[0m op \u001b[38;5;241m=\u001b[39m frame_apply(\n\u001b[0;32m   8831\u001b[0m     \u001b[38;5;28mself\u001b[39m,\n\u001b[0;32m   8832\u001b[0m     func\u001b[38;5;241m=\u001b[39mfunc,\n\u001b[1;32m   (...)\u001b[0m\n\u001b[0;32m   8837\u001b[0m     kwargs\u001b[38;5;241m=\u001b[39mkwargs,\n\u001b[0;32m   8838\u001b[0m )\n\u001b[1;32m-> 8839\u001b[0m \u001b[38;5;28;01mreturn\u001b[39;00m \u001b[43mop\u001b[49m\u001b[38;5;241;43m.\u001b[39;49m\u001b[43mapply\u001b[49m\u001b[43m(\u001b[49m\u001b[43m)\u001b[49m\u001b[38;5;241m.\u001b[39m__finalize__(\u001b[38;5;28mself\u001b[39m, method\u001b[38;5;241m=\u001b[39m\u001b[38;5;124m\"\u001b[39m\u001b[38;5;124mapply\u001b[39m\u001b[38;5;124m\"\u001b[39m)\n",
      "File \u001b[1;32m~\\anaconda3\\lib\\site-packages\\pandas\\core\\apply.py:727\u001b[0m, in \u001b[0;36mFrameApply.apply\u001b[1;34m(self)\u001b[0m\n\u001b[0;32m    724\u001b[0m \u001b[38;5;28;01melif\u001b[39;00m \u001b[38;5;28mself\u001b[39m\u001b[38;5;241m.\u001b[39mraw:\n\u001b[0;32m    725\u001b[0m     \u001b[38;5;28;01mreturn\u001b[39;00m \u001b[38;5;28mself\u001b[39m\u001b[38;5;241m.\u001b[39mapply_raw()\n\u001b[1;32m--> 727\u001b[0m \u001b[38;5;28;01mreturn\u001b[39;00m \u001b[38;5;28;43mself\u001b[39;49m\u001b[38;5;241;43m.\u001b[39;49m\u001b[43mapply_standard\u001b[49m\u001b[43m(\u001b[49m\u001b[43m)\u001b[49m\n",
      "File \u001b[1;32m~\\anaconda3\\lib\\site-packages\\pandas\\core\\apply.py:851\u001b[0m, in \u001b[0;36mFrameApply.apply_standard\u001b[1;34m(self)\u001b[0m\n\u001b[0;32m    850\u001b[0m \u001b[38;5;28;01mdef\u001b[39;00m \u001b[38;5;21mapply_standard\u001b[39m(\u001b[38;5;28mself\u001b[39m):\n\u001b[1;32m--> 851\u001b[0m     results, res_index \u001b[38;5;241m=\u001b[39m \u001b[38;5;28;43mself\u001b[39;49m\u001b[38;5;241;43m.\u001b[39;49m\u001b[43mapply_series_generator\u001b[49m\u001b[43m(\u001b[49m\u001b[43m)\u001b[49m\n\u001b[0;32m    853\u001b[0m     \u001b[38;5;66;03m# wrap results\u001b[39;00m\n\u001b[0;32m    854\u001b[0m     \u001b[38;5;28;01mreturn\u001b[39;00m \u001b[38;5;28mself\u001b[39m\u001b[38;5;241m.\u001b[39mwrap_results(results, res_index)\n",
      "File \u001b[1;32m~\\anaconda3\\lib\\site-packages\\pandas\\core\\apply.py:867\u001b[0m, in \u001b[0;36mFrameApply.apply_series_generator\u001b[1;34m(self)\u001b[0m\n\u001b[0;32m    864\u001b[0m \u001b[38;5;28;01mwith\u001b[39;00m option_context(\u001b[38;5;124m\"\u001b[39m\u001b[38;5;124mmode.chained_assignment\u001b[39m\u001b[38;5;124m\"\u001b[39m, \u001b[38;5;28;01mNone\u001b[39;00m):\n\u001b[0;32m    865\u001b[0m     \u001b[38;5;28;01mfor\u001b[39;00m i, v \u001b[38;5;129;01min\u001b[39;00m \u001b[38;5;28menumerate\u001b[39m(series_gen):\n\u001b[0;32m    866\u001b[0m         \u001b[38;5;66;03m# ignore SettingWithCopy here in case the user mutates\u001b[39;00m\n\u001b[1;32m--> 867\u001b[0m         results[i] \u001b[38;5;241m=\u001b[39m \u001b[38;5;28;43mself\u001b[39;49m\u001b[38;5;241;43m.\u001b[39;49m\u001b[43mf\u001b[49m\u001b[43m(\u001b[49m\u001b[43mv\u001b[49m\u001b[43m)\u001b[49m\n\u001b[0;32m    868\u001b[0m         \u001b[38;5;28;01mif\u001b[39;00m \u001b[38;5;28misinstance\u001b[39m(results[i], ABCSeries):\n\u001b[0;32m    869\u001b[0m             \u001b[38;5;66;03m# If we have a view on v, we need to make a copy because\u001b[39;00m\n\u001b[0;32m    870\u001b[0m             \u001b[38;5;66;03m#  series_generator will swap out the underlying data\u001b[39;00m\n\u001b[0;32m    871\u001b[0m             results[i] \u001b[38;5;241m=\u001b[39m results[i]\u001b[38;5;241m.\u001b[39mcopy(deep\u001b[38;5;241m=\u001b[39m\u001b[38;5;28;01mFalse\u001b[39;00m)\n",
      "File \u001b[1;32m~\\anaconda3\\lib\\site-packages\\tqdm\\std.py:809\u001b[0m, in \u001b[0;36mtqdm.pandas.<locals>.inner_generator.<locals>.inner.<locals>.wrapper\u001b[1;34m(*args, **kwargs)\u001b[0m\n\u001b[0;32m    803\u001b[0m \u001b[38;5;28;01mdef\u001b[39;00m \u001b[38;5;21mwrapper\u001b[39m(\u001b[38;5;241m*\u001b[39margs, \u001b[38;5;241m*\u001b[39m\u001b[38;5;241m*\u001b[39mkwargs):\n\u001b[0;32m    804\u001b[0m     \u001b[38;5;66;03m# update tbar correctly\u001b[39;00m\n\u001b[0;32m    805\u001b[0m     \u001b[38;5;66;03m# it seems `pandas apply` calls `func` twice\u001b[39;00m\n\u001b[0;32m    806\u001b[0m     \u001b[38;5;66;03m# on the first column/row to decide whether it can\u001b[39;00m\n\u001b[0;32m    807\u001b[0m     \u001b[38;5;66;03m# take a fast or slow code path; so stop when t.total==t.n\u001b[39;00m\n\u001b[0;32m    808\u001b[0m     t\u001b[38;5;241m.\u001b[39mupdate(n\u001b[38;5;241m=\u001b[39m\u001b[38;5;241m1\u001b[39m \u001b[38;5;28;01mif\u001b[39;00m \u001b[38;5;129;01mnot\u001b[39;00m t\u001b[38;5;241m.\u001b[39mtotal \u001b[38;5;129;01mor\u001b[39;00m t\u001b[38;5;241m.\u001b[39mn \u001b[38;5;241m<\u001b[39m t\u001b[38;5;241m.\u001b[39mtotal \u001b[38;5;28;01melse\u001b[39;00m \u001b[38;5;241m0\u001b[39m)\n\u001b[1;32m--> 809\u001b[0m     \u001b[38;5;28;01mreturn\u001b[39;00m func(\u001b[38;5;241m*\u001b[39margs, \u001b[38;5;241m*\u001b[39m\u001b[38;5;241m*\u001b[39mkwargs)\n",
      "File \u001b[1;32m~\\anaconda3\\lib\\site-packages\\snorkel\\labeling\\apply\\pandas.py:37\u001b[0m, in \u001b[0;36mapply_lfs_to_data_point\u001b[1;34m(x, lfs, f_caller)\u001b[0m\n\u001b[0;32m     35\u001b[0m labels \u001b[38;5;241m=\u001b[39m []\n\u001b[0;32m     36\u001b[0m \u001b[38;5;28;01mfor\u001b[39;00m j, lf \u001b[38;5;129;01min\u001b[39;00m \u001b[38;5;28menumerate\u001b[39m(lfs):\n\u001b[1;32m---> 37\u001b[0m     y \u001b[38;5;241m=\u001b[39m \u001b[43mf_caller\u001b[49m\u001b[43m(\u001b[49m\u001b[43mlf\u001b[49m\u001b[43m,\u001b[49m\u001b[43m \u001b[49m\u001b[43mx\u001b[49m\u001b[43m)\u001b[49m\n\u001b[0;32m     38\u001b[0m     \u001b[38;5;28;01mif\u001b[39;00m y \u001b[38;5;241m>\u001b[39m\u001b[38;5;241m=\u001b[39m \u001b[38;5;241m0\u001b[39m:\n\u001b[0;32m     39\u001b[0m         labels\u001b[38;5;241m.\u001b[39mappend((j, y))\n",
      "File \u001b[1;32m~\\anaconda3\\lib\\site-packages\\snorkel\\labeling\\apply\\core.py:28\u001b[0m, in \u001b[0;36m_FunctionCaller.__call__\u001b[1;34m(self, f, x)\u001b[0m\n\u001b[0;32m     26\u001b[0m \u001b[38;5;28;01mdef\u001b[39;00m \u001b[38;5;21m__call__\u001b[39m(\u001b[38;5;28mself\u001b[39m, f: LabelingFunction, x: DataPoint) \u001b[38;5;241m-\u001b[39m\u001b[38;5;241m>\u001b[39m \u001b[38;5;28mint\u001b[39m:\n\u001b[0;32m     27\u001b[0m     \u001b[38;5;28;01mif\u001b[39;00m \u001b[38;5;129;01mnot\u001b[39;00m \u001b[38;5;28mself\u001b[39m\u001b[38;5;241m.\u001b[39mfault_tolerant:\n\u001b[1;32m---> 28\u001b[0m         \u001b[38;5;28;01mreturn\u001b[39;00m \u001b[43mf\u001b[49m\u001b[43m(\u001b[49m\u001b[43mx\u001b[49m\u001b[43m)\u001b[49m\n\u001b[0;32m     29\u001b[0m     \u001b[38;5;28;01mtry\u001b[39;00m:\n\u001b[0;32m     30\u001b[0m         \u001b[38;5;28;01mreturn\u001b[39;00m f(x)\n",
      "File \u001b[1;32m~\\anaconda3\\lib\\site-packages\\snorkel\\labeling\\lf\\core.py:77\u001b[0m, in \u001b[0;36mLabelingFunction.__call__\u001b[1;34m(self, x)\u001b[0m\n\u001b[0;32m     62\u001b[0m \u001b[38;5;124;03m\"\"\"Label data point.\u001b[39;00m\n\u001b[0;32m     63\u001b[0m \n\u001b[0;32m     64\u001b[0m \u001b[38;5;124;03mRuns all preprocessors, then passes preprocessed data point to LF.\u001b[39;00m\n\u001b[1;32m   (...)\u001b[0m\n\u001b[0;32m     74\u001b[0m \u001b[38;5;124;03m    Label for data point\u001b[39;00m\n\u001b[0;32m     75\u001b[0m \u001b[38;5;124;03m\"\"\"\u001b[39;00m\n\u001b[0;32m     76\u001b[0m x \u001b[38;5;241m=\u001b[39m \u001b[38;5;28mself\u001b[39m\u001b[38;5;241m.\u001b[39m_preprocess_data_point(x)\n\u001b[1;32m---> 77\u001b[0m \u001b[38;5;28;01mreturn\u001b[39;00m \u001b[38;5;28mself\u001b[39m\u001b[38;5;241m.\u001b[39m_f(x, \u001b[38;5;241m*\u001b[39m\u001b[38;5;241m*\u001b[39m\u001b[38;5;28mself\u001b[39m\u001b[38;5;241m.\u001b[39m_resources)\n",
      "Input \u001b[1;32mIn [34]\u001b[0m, in \u001b[0;36mlf_regex_contains_what\u001b[1;34m(df_line)\u001b[0m\n\u001b[0;32m      2\u001b[0m \u001b[38;5;129m@labeling_function\u001b[39m()\n\u001b[0;32m      3\u001b[0m \u001b[38;5;28;01mdef\u001b[39;00m \u001b[38;5;21mlf_regex_contains_what\u001b[39m(df_line):\n\u001b[1;32m----> 4\u001b[0m   \u001b[38;5;28;01mreturn\u001b[39;00m QUESTION \u001b[38;5;28;01mif\u001b[39;00m re\u001b[38;5;241m.\u001b[39msearch(\u001b[38;5;124mr\u001b[39m\u001b[38;5;124m\"\u001b[39m\u001b[38;5;124mwhat.*?\u001b[39m\u001b[38;5;124m\"\u001b[39m, \u001b[43mdf_line\u001b[49m\u001b[38;5;241;43m.\u001b[39;49m\u001b[43msentences\u001b[49m, flags\u001b[38;5;241m=\u001b[39mre\u001b[38;5;241m.\u001b[39mI) \u001b[38;5;28;01melse\u001b[39;00m ABSTAIN\n",
      "File \u001b[1;32m~\\anaconda3\\lib\\site-packages\\pandas\\core\\generic.py:5575\u001b[0m, in \u001b[0;36mNDFrame.__getattr__\u001b[1;34m(self, name)\u001b[0m\n\u001b[0;32m   5568\u001b[0m \u001b[38;5;28;01mif\u001b[39;00m (\n\u001b[0;32m   5569\u001b[0m     name \u001b[38;5;129;01mnot\u001b[39;00m \u001b[38;5;129;01min\u001b[39;00m \u001b[38;5;28mself\u001b[39m\u001b[38;5;241m.\u001b[39m_internal_names_set\n\u001b[0;32m   5570\u001b[0m     \u001b[38;5;129;01mand\u001b[39;00m name \u001b[38;5;129;01mnot\u001b[39;00m \u001b[38;5;129;01min\u001b[39;00m \u001b[38;5;28mself\u001b[39m\u001b[38;5;241m.\u001b[39m_metadata\n\u001b[0;32m   5571\u001b[0m     \u001b[38;5;129;01mand\u001b[39;00m name \u001b[38;5;129;01mnot\u001b[39;00m \u001b[38;5;129;01min\u001b[39;00m \u001b[38;5;28mself\u001b[39m\u001b[38;5;241m.\u001b[39m_accessors\n\u001b[0;32m   5572\u001b[0m     \u001b[38;5;129;01mand\u001b[39;00m \u001b[38;5;28mself\u001b[39m\u001b[38;5;241m.\u001b[39m_info_axis\u001b[38;5;241m.\u001b[39m_can_hold_identifiers_and_holds_name(name)\n\u001b[0;32m   5573\u001b[0m ):\n\u001b[0;32m   5574\u001b[0m     \u001b[38;5;28;01mreturn\u001b[39;00m \u001b[38;5;28mself\u001b[39m[name]\n\u001b[1;32m-> 5575\u001b[0m \u001b[38;5;28;01mreturn\u001b[39;00m \u001b[38;5;28;43mobject\u001b[39;49m\u001b[38;5;241;43m.\u001b[39;49m\u001b[38;5;21;43m__getattribute__\u001b[39;49m\u001b[43m(\u001b[49m\u001b[38;5;28;43mself\u001b[39;49m\u001b[43m,\u001b[49m\u001b[43m \u001b[49m\u001b[43mname\u001b[49m\u001b[43m)\u001b[49m\n",
      "\u001b[1;31mAttributeError\u001b[0m: 'Series' object has no attribute 'sentences'"
     ]
    }
   ],
   "source": [
    "lfs = [lf_keyword_lookup, lf_regex_contains_what, lf_regex_contains_question_mark]\n",
    "applier = PandasLFApplier(lfs=lfs)\n",
    "L_train = applier.apply(df=df_train)"
   ]
  },
  {
   "cell_type": "code",
   "execution_count": null,
   "id": "f8e12028",
   "metadata": {},
   "outputs": [],
   "source": []
  },
  {
   "cell_type": "code",
   "execution_count": null,
   "id": "11b93cc0",
   "metadata": {},
   "outputs": [],
   "source": []
  }
 ],
 "metadata": {
  "kernelspec": {
   "display_name": "Python 3 (ipykernel)",
   "language": "python",
   "name": "python3"
  },
  "language_info": {
   "codemirror_mode": {
    "name": "ipython",
    "version": 3
   },
   "file_extension": ".py",
   "mimetype": "text/x-python",
   "name": "python",
   "nbconvert_exporter": "python",
   "pygments_lexer": "ipython3",
   "version": "3.9.12"
  }
 },
 "nbformat": 4,
 "nbformat_minor": 5
}
